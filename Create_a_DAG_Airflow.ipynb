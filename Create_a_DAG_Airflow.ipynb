{
  "nbformat": 4,
  "nbformat_minor": 0,
  "metadata": {
    "colab": {
      "name": "Create a DAG- Airflow.ipynb",
      "provenance": [],
      "collapsed_sections": [],
      "authorship_tag": "ABX9TyPuz4UjBLXSdy7gfTTYMey7",
      "include_colab_link": true
    },
    "kernelspec": {
      "name": "python3",
      "display_name": "Python 3"
    },
    "language_info": {
      "name": "python"
    }
  },
  "cells": [
    {
      "cell_type": "markdown",
      "metadata": {
        "id": "view-in-github",
        "colab_type": "text"
      },
      "source": [
        "<a href=\"https://colab.research.google.com/github/MarahRamadan/Apache-Airflow/blob/main/Create_a_DAG_Airflow.ipynb\" target=\"_parent\"><img src=\"https://colab.research.google.com/assets/colab-badge.svg\" alt=\"Open In Colab\"/></a>"
      ]
    },
    {
      "cell_type": "code",
      "metadata": {
        "id": "mwDZj5hgAIdj"
      },
      "source": [
        "# import the libraries\n",
        "\n",
        "from datetime import timedelta\n",
        "# The DAG object; we'll need this to instantiate a DAG\n",
        "from airflow import DAG\n",
        "# Operators; we need this to write tasks!\n",
        "from airflow.operators.bash_operator import BashOperator\n",
        "# This makes scheduling easy\n",
        "from airflow.utils.dates import days_ago\n",
        "\n",
        "#defining DAG arguments\n",
        "\n",
        "# You can override them on a per-task basis during operator initialization\n",
        "default_args = {\n",
        "    'owner': 'Ramesh Sannareddy',\n",
        "    'start_date': days_ago(0),\n",
        "    'email': ['ramesh@somemail.com'],\n",
        "    'email_on_failure': False,\n",
        "    'email_on_retry': False,\n",
        "    'retries': 1,\n",
        "    'retry_delay': timedelta(minutes=5),\n",
        "}\n",
        "\n",
        "# defining the DAG\n",
        "\n",
        "# define the DAG\n",
        "dag = DAG(\n",
        "    'my-first-dag',\n",
        "    default_args=default_args,\n",
        "    description='My first DAG',\n",
        "    schedule_interval=timedelta(days=1),\n",
        ")\n",
        "\n",
        "# define the tasks\n",
        "\n",
        "# define the first task\n",
        "\n",
        "extract = BashOperator(\n",
        "    task_id='extract',\n",
        "    bash_command='cut -d\":\" -f1,3,6 /etc/passwd > extracted-data.txt',\n",
        "    dag=dag,\n",
        ")\n",
        "\n",
        "\n",
        "# define the second task\n",
        "transform_and_load = BashOperator(\n",
        "    task_id='transform',\n",
        "    bash_command='tr \":\" \",\" < extracted-data.txt > transformed-data.csv',\n",
        "    dag=dag,\n",
        ")\n",
        "\n",
        "\n",
        "# task pipeline\n",
        "extract >> transform_and_load"
      ],
      "execution_count": null,
      "outputs": []
    },
    {
      "cell_type": "markdown",
      "metadata": {
        "id": "zH3yu8mJutdR"
      },
      "source": [
        "#Submit the DAG.\n",
        "On terminal, write : \n",
        "\n",
        "cp my_first_dag.py $AIRFLOW_HOME/dags"
      ]
    },
    {
      "cell_type": "markdown",
      "metadata": {
        "id": "b0hIsz6Ru29k"
      },
      "source": [
        "#Verify if the DAG is submitted.\n",
        "\n",
        "On terminal, write:\n",
        "\n",
        "airflow dags list\n",
        "\n",
        "airflow dags list|grep \"my-first-dag\"\n",
        "\n",
        "airflow tasks list my-first-dag"
      ]
    },
    {
      "cell_type": "code",
      "metadata": {
        "id": "4uyqCLnAxAw0"
      },
      "source": [
        ""
      ],
      "execution_count": null,
      "outputs": []
    }
  ]
}