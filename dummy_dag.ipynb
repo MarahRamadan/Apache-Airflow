{
  "nbformat": 4,
  "nbformat_minor": 0,
  "metadata": {
    "colab": {
      "name": "dummy_dag.ipynb",
      "provenance": [],
      "collapsed_sections": [],
      "authorship_tag": "ABX9TyMsuCzC/0jNdMHnNN6APtb4",
      "include_colab_link": true
    },
    "kernelspec": {
      "name": "python3",
      "display_name": "Python 3"
    },
    "language_info": {
      "name": "python"
    }
  },
  "cells": [
    {
      "cell_type": "markdown",
      "metadata": {
        "id": "view-in-github",
        "colab_type": "text"
      },
      "source": [
        "<a href=\"https://colab.research.google.com/github/MarahRamadan/Apache-Airflow/blob/main/dummy_dag.ipynb\" target=\"_parent\"><img src=\"https://colab.research.google.com/assets/colab-badge.svg\" alt=\"Open In Colab\"/></a>"
      ]
    },
    {
      "cell_type": "code",
      "metadata": {
        "id": "pKRIBV-DBNvR"
      },
      "source": [
        "from datetime import timedelta\n",
        "# The DAG object; we'll need this to instantiate a DAG\n",
        "from airflow import DAG\n",
        "# Operators; we need this to write tasks!\n",
        "from airflow.operators.bash_operator import BashOperator\n",
        "# This makes scheduling easy\n",
        "from airflow.utils.dates import days_ago\n",
        "\n",
        "default_args = {\n",
        "    'owner': 'Ramesh Sannareddy',\n",
        "    'start_date': days_ago(0),\n",
        "    'email': ['ramesh@somemail.com'],\n",
        "    'email_on_failure': False,\n",
        "    'email_on_retry': False,\n",
        "    'retries': 1,\n",
        "    'retry_delay': timedelta(minutes=5),\n",
        "}\n",
        "\n",
        "# defining the DAG\n",
        "dag = DAG(\n",
        "    'dummy_dag',\n",
        "    default_args=default_args,\n",
        "    description='My first DAG',\n",
        "    schedule_interval=timedelta(minutes=1),\n",
        ")\n",
        "\n",
        "task1 = BashOperator(\n",
        "    task_id='task1',\n",
        "    bash_command='sleep 1',\n",
        "    dag=dag,\n",
        ")\n",
        "\n",
        "task2 = BashOperator(\n",
        "    task_id='task2',\n",
        "    bash_command='sleep 2',\n",
        "    dag=dag,\n",
        ")\n",
        "\n",
        "task3 = BashOperator(\n",
        "    task_id='task3',\n",
        "    bash_command='sleep 3',\n",
        "    dag=dag,\n",
        ")\n",
        "\n",
        "\n",
        "# task pipeline\n",
        "task1 >> task2 >> task3"
      ],
      "execution_count": null,
      "outputs": []
    },
    {
      "cell_type": "markdown",
      "metadata": {
        "id": "zH3yu8mJutdR"
      },
      "source": [
        "#Submit the DAG.\n",
        "On terminal, write : \n",
        "\n",
        "cp dummy_dag.py $AIRFLOW_HOME/dags"
      ]
    },
    {
      "cell_type": "markdown",
      "metadata": {
        "id": "b0hIsz6Ru29k"
      },
      "source": [
        "#Verify if the DAG is submitted.\n",
        "\n",
        "On terminal, write:\n",
        "\n",
        "airflow dags list\n",
        "\n",
        "airflow dags list|grep \"dummy_dag\"\n",
        "\n",
        "airflow tasks list dummy_dag"
      ]
    },
    {
      "cell_type": "code",
      "metadata": {
        "id": "xIV_p9GiBji4"
      },
      "source": [
        ""
      ],
      "execution_count": null,
      "outputs": []
    }
  ]
}